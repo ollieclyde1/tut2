{
 "cells": [
  {
   "cell_type": "code",
   "execution_count": 5,
   "metadata": {},
   "outputs": [
    {
     "name": "stdout",
     "output_type": "stream",
     "text": [
      "its hot!\n"
     ]
    }
   ],
   "source": [
    "temp=int(input(\"Enter the temperature in celsius: \"))\n",
    "if temp<0:\n",
    "    print(\"Freezing weather\")\n",
    "elif temp<=15:\n",
    "    print(\"its cold weather\")\n",
    "elif temp<=25:\n",
    "    print(\"its nice weather\")\n",
    "else:\n",
    "    print(\"its hot!\")"
   ]
  },
  {
   "cell_type": "code",
   "execution_count": 6,
   "metadata": {},
   "outputs": [
    {
     "name": "stdout",
     "output_type": "stream",
     "text": [
      "i like apple\n",
      "i like banana\n",
      "i like cherry\n"
     ]
    }
   ],
   "source": [
    "fruits = [\"apple\", \"banana\", \"cherry\"]\n",
    "for fruit in fruits:\n",
    "  print(f\"i like {fruit}\")"
   ]
  },
  {
   "cell_type": "code",
   "execution_count": 9,
   "metadata": {},
   "outputs": [
    {
     "name": "stdout",
     "output_type": "stream",
     "text": [
      "number is 1\n",
      "number is 2\n",
      "number is 3\n",
      "number is 4\n",
      "number is 5\n",
      "number is 6\n",
      "number is 7\n",
      "number is 8\n",
      "number is 9\n",
      "number is 10\n"
     ]
    }
   ],
   "source": [
    "for number in range(1,11):\n",
    "    print(f\"number is {number}\")"
   ]
  },
  {
   "cell_type": "code",
   "execution_count": 11,
   "metadata": {},
   "outputs": [
    {
     "name": "stdout",
     "output_type": "stream",
     "text": [
      "the letter is p\n",
      "the letter is y\n",
      "the letter is t\n",
      "the letter is h\n",
      "the letter is o\n",
      "the letter is n\n"
     ]
    }
   ],
   "source": [
    "word=\"python\"\n",
    "for letter in word:\n",
    "    print(f\"the letter is {letter}\")"
   ]
  },
  {
   "cell_type": "code",
   "execution_count": 12,
   "metadata": {},
   "outputs": [
    {
     "name": "stdout",
     "output_type": "stream",
     "text": [
      "the letter is h\n",
      "the letter is e\n",
      "the letter is l\n",
      "the letter is l\n",
      "the letter is o\n"
     ]
    }
   ],
   "source": [
    "word = str(input(\"Enter a word: \"))\n",
    "for letter in word:\n",
    "    print(f\"the letter is {letter}\")"
   ]
  },
  {
   "cell_type": "code",
   "execution_count": 22,
   "metadata": {},
   "outputs": [
    {
     "name": "stdout",
     "output_type": "stream",
     "text": [
      "o \n",
      "o o \n",
      "o o o \n",
      "o o o o \n",
      "o o o o o \n"
     ]
    }
   ],
   "source": [
    "n = 5\n",
    "for i in range(n):\n",
    "    for j in range(i+1):\n",
    "        print(\"o\", end=\" \")\n",
    "    print()"
   ]
  },
  {
   "cell_type": "code",
   "execution_count": 23,
   "metadata": {},
   "outputs": [
    {
     "name": "stdout",
     "output_type": "stream",
     "text": [
      "The sum is: 8\n"
     ]
    }
   ],
   "source": [
    "def add_numbers(a, b):\n",
    "    return a + b\n",
    "result = add_numbers(3, 5)\n",
    "print(\"The sum is:\", result)"
   ]
  },
  {
   "cell_type": "code",
   "execution_count": 30,
   "metadata": {},
   "outputs": [
    {
     "name": "stdout",
     "output_type": "stream",
     "text": [
      "o \n",
      "o o \n",
      "o o o \n",
      "o o o o \n",
      "o o o o o \n"
     ]
    }
   ],
   "source": [
    "def triangle(n):\n",
    "    for i in range(n):\n",
    "        for j in range(i+1):\n",
    "            print(\"o\", end=\" \")\n",
    "        print()\n",
    "\n",
    "n = int(input(\"Enter number of rows: \"))\n",
    "triangle(n)"
   ]
  },
  {
   "cell_type": "code",
   "execution_count": null,
   "metadata": {},
   "outputs": [],
   "source": [
    "git status\n",
    "git add \n",
    "git commit -m \"message\"\n",
    "git push"
   ]
  }
 ],
 "metadata": {
  "kernelspec": {
   "display_name": "Python 3",
   "language": "python",
   "name": "python3"
  },
  "language_info": {
   "codemirror_mode": {
    "name": "ipython",
    "version": 3
   },
   "file_extension": ".py",
   "mimetype": "text/x-python",
   "name": "python",
   "nbconvert_exporter": "python",
   "pygments_lexer": "ipython3",
   "version": "3.12.1"
  }
 },
 "nbformat": 4,
 "nbformat_minor": 2
}
